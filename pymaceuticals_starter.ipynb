{
 "cells": [
  {
   "cell_type": "markdown",
   "metadata": {},
   "source": [
    "## Observations and Insights"
   ]
  },
  {
   "cell_type": "markdown",
   "metadata": {},
   "source": [
    "This drug trial was perfomed on non uniform samples. As some treatments were tested on more mice than others. Futhermore there are slightly more male mice than female. The top performing drugs had a sample significantly larger than that used for the other drugs and thus the results may be skewed. Futhermore there seems to be a positive correlation between the weight of the mouse and the volume of the tumor."
   ]
  },
  {
   "cell_type": "markdown",
   "metadata": {},
   "source": [
    "## Dependencies and starter code"
   ]
  },
  {
   "cell_type": "code",
   "execution_count": 3,
   "metadata": {},
   "outputs": [],
   "source": [
    "# Dependencies and Setup\n",
    "import matplotlib.pyplot as plt\n",
    "import pandas as pd\n",
    "import scipy.stats as st\n",
    "import numpy as np\n",
    "import random\n",
    "\n",
    "\n",
    "# Study data files\n",
    "mouse_metadata = \"data/Mouse_metadata.csv\"\n",
    "study_results = \"data/Study_results.csv\"\n",
    "\n",
    "# Read the mouse data and the study results\n",
    "mouse_metadata = pd.read_csv(mouse_metadata)\n",
    "study_results = pd.read_csv(study_results)\n",
    "\n",
    "# Combine the data into a single dataset\n",
    "mouse_results = mouse_metadata.merge(study_results)"
   ]
  },
  {
   "cell_type": "markdown",
   "metadata": {},
   "source": [
    "## Summary statistics"
   ]
  },
  {
   "cell_type": "code",
   "execution_count": 80,
   "metadata": {},
   "outputs": [
    {
     "data": {
      "text/html": [
       "<div>\n",
       "<style scoped>\n",
       "    .dataframe tbody tr th:only-of-type {\n",
       "        vertical-align: middle;\n",
       "    }\n",
       "\n",
       "    .dataframe tbody tr th {\n",
       "        vertical-align: top;\n",
       "    }\n",
       "\n",
       "    .dataframe thead th {\n",
       "        text-align: right;\n",
       "    }\n",
       "</style>\n",
       "<table border=\"1\" class=\"dataframe\">\n",
       "  <thead>\n",
       "    <tr style=\"text-align: right;\">\n",
       "      <th></th>\n",
       "      <th>Mean</th>\n",
       "      <th>Std Dev</th>\n",
       "      <th>Median</th>\n",
       "      <th>Variance</th>\n",
       "      <th>SEM</th>\n",
       "    </tr>\n",
       "    <tr>\n",
       "      <th>Drug Regimen</th>\n",
       "      <th></th>\n",
       "      <th></th>\n",
       "      <th></th>\n",
       "      <th></th>\n",
       "      <th></th>\n",
       "    </tr>\n",
       "  </thead>\n",
       "  <tbody>\n",
       "    <tr>\n",
       "      <td>Capomulin</td>\n",
       "      <td>40.675741</td>\n",
       "      <td>4.994774</td>\n",
       "      <td>41.557809</td>\n",
       "      <td>24.947764</td>\n",
       "      <td>0.329346</td>\n",
       "    </tr>\n",
       "    <tr>\n",
       "      <td>Ceftamin</td>\n",
       "      <td>52.591172</td>\n",
       "      <td>6.268188</td>\n",
       "      <td>51.776157</td>\n",
       "      <td>39.290177</td>\n",
       "      <td>0.469821</td>\n",
       "    </tr>\n",
       "    <tr>\n",
       "      <td>Infubinol</td>\n",
       "      <td>52.884795</td>\n",
       "      <td>6.567243</td>\n",
       "      <td>51.820584</td>\n",
       "      <td>43.128684</td>\n",
       "      <td>0.492236</td>\n",
       "    </tr>\n",
       "    <tr>\n",
       "      <td>Ketapril</td>\n",
       "      <td>55.235638</td>\n",
       "      <td>8.279709</td>\n",
       "      <td>53.698743</td>\n",
       "      <td>68.553577</td>\n",
       "      <td>0.603860</td>\n",
       "    </tr>\n",
       "    <tr>\n",
       "      <td>Naftisol</td>\n",
       "      <td>54.331565</td>\n",
       "      <td>8.134708</td>\n",
       "      <td>52.509285</td>\n",
       "      <td>66.173479</td>\n",
       "      <td>0.596466</td>\n",
       "    </tr>\n",
       "    <tr>\n",
       "      <td>Placebo</td>\n",
       "      <td>54.033581</td>\n",
       "      <td>7.821003</td>\n",
       "      <td>52.288934</td>\n",
       "      <td>61.168083</td>\n",
       "      <td>0.581331</td>\n",
       "    </tr>\n",
       "    <tr>\n",
       "      <td>Propriva</td>\n",
       "      <td>52.322552</td>\n",
       "      <td>6.507770</td>\n",
       "      <td>50.854632</td>\n",
       "      <td>42.351070</td>\n",
       "      <td>0.512884</td>\n",
       "    </tr>\n",
       "    <tr>\n",
       "      <td>Ramicane</td>\n",
       "      <td>40.216745</td>\n",
       "      <td>4.846308</td>\n",
       "      <td>40.673236</td>\n",
       "      <td>23.486704</td>\n",
       "      <td>0.320955</td>\n",
       "    </tr>\n",
       "    <tr>\n",
       "      <td>Stelasyn</td>\n",
       "      <td>54.233149</td>\n",
       "      <td>7.710419</td>\n",
       "      <td>52.431737</td>\n",
       "      <td>59.450562</td>\n",
       "      <td>0.573111</td>\n",
       "    </tr>\n",
       "    <tr>\n",
       "      <td>Zoniferol</td>\n",
       "      <td>53.236507</td>\n",
       "      <td>6.966589</td>\n",
       "      <td>51.818479</td>\n",
       "      <td>48.533355</td>\n",
       "      <td>0.516398</td>\n",
       "    </tr>\n",
       "  </tbody>\n",
       "</table>\n",
       "</div>"
      ],
      "text/plain": [
       "                   Mean   Std Dev     Median   Variance       SEM\n",
       "Drug Regimen                                                     \n",
       "Capomulin     40.675741  4.994774  41.557809  24.947764  0.329346\n",
       "Ceftamin      52.591172  6.268188  51.776157  39.290177  0.469821\n",
       "Infubinol     52.884795  6.567243  51.820584  43.128684  0.492236\n",
       "Ketapril      55.235638  8.279709  53.698743  68.553577  0.603860\n",
       "Naftisol      54.331565  8.134708  52.509285  66.173479  0.596466\n",
       "Placebo       54.033581  7.821003  52.288934  61.168083  0.581331\n",
       "Propriva      52.322552  6.507770  50.854632  42.351070  0.512884\n",
       "Ramicane      40.216745  4.846308  40.673236  23.486704  0.320955\n",
       "Stelasyn      54.233149  7.710419  52.431737  59.450562  0.573111\n",
       "Zoniferol     53.236507  6.966589  51.818479  48.533355  0.516398"
      ]
     },
     "execution_count": 80,
     "metadata": {},
     "output_type": "execute_result"
    }
   ],
   "source": [
    "# Generate a summary statistics table of mean, median, variance, standard deviation, and SEM of the tumor volume for each regimen\n",
    "summary_stats = mouse_results.groupby('Drug Regimen')['Tumor Volume (mm3)'].describe()\n",
    "summary_stats2 = summary_stats[['mean', 'std', '50%']].copy()\n",
    "summary_stats2['Variance'] = (summary_stats2['std'])**2\n",
    "summary_stats2['SEM'] = mouse_results.groupby('Drug Regimen')['Tumor Volume (mm3)'].sem()\n",
    "summary_stats2 = summary_stats2.rename(columns={'mean':'Mean', 'std': 'Std Dev', '50%': 'Median'})\n",
    "summary_stats2"
   ]
  },
  {
   "cell_type": "markdown",
   "metadata": {},
   "source": [
    "## Bar plots"
   ]
  },
  {
   "cell_type": "code",
   "execution_count": 5,
   "metadata": {},
   "outputs": [
    {
     "data": {
      "image/png": "[encoded data removed]",
      "text/plain": [
       "<Figure size 432x288 with 1 Axes>"
      ]
     },
     "metadata": {
      "needs_background": "light"
     },
     "output_type": "display_data"
    }
   ],
   "source": [
    "# Generate a bar plot showing number of data points for each treatment regimen using pandas\n",
    "grouped_counts = mouse_results.groupby('Drug Regimen')['Tumor Volume (mm3)'].count()\n",
    "#color = ['r', 'b', 'g', 'y', 'k', 'r', 'b', 'm', 'c', 'w']\n",
    "plt.figure()\n",
    "summary_plot = grouped_counts.plot(kind='bar', color = 'r')\n",
    "summary_plot.set_title(\"Tumor Volume Data Points\")\n",
    "summary_plot.set_ylabel(\"Number of Data Points\")\n",
    "plt.show()"
   ]
  },
  {
   "cell_type": "code",
   "execution_count": 6,
   "metadata": {},
   "outputs": [
    {
     "data": {
      "image/png": "[encoded data removed]",
      "text/plain": [
       "<Figure size 432x288 with 1 Axes>"
      ]
     },
     "metadata": {
      "needs_background": "light"
     },
     "output_type": "display_data"
    }
   ],
   "source": [
    "# Generate a bar plot showing number of data points for each treatment regimen using pyplot\n",
    "x_axis = np.arange(0,len(summary_stats))\n",
    "xticks = [x for x in grouped_counts.keys()]\n",
    "plt.figure()\n",
    "plt.bar(x_axis, grouped_counts)\n",
    "plt.xlim(-0.5 ,x_axis.max() + 0.5)\n",
    "plt.xticks(x_axis, xticks, rotation='45')\n",
    "plt.title(\"Tumor Volume Data Points\")\n",
    "plt.xlabel(\"Drug Regimen\")\n",
    "plt.ylabel(\"Number of Data Points\")\n",
    "plt.show()"
   ]
  },
  {
   "cell_type": "markdown",
   "metadata": {},
   "source": [
    "## Pie plots"
   ]
  },
  {
   "cell_type": "code",
   "execution_count": 7,
   "metadata": {},
   "outputs": [
    {
     "data": {
      "image/png": "[encoded data removed]",
      "text/plain": [
       "<Figure size 432x288 with 1 Axes>"
      ]
     },
     "metadata": {},
     "output_type": "display_data"
    }
   ],
   "source": [
    "# Generate a pie plot showing the distribution of female versus male mice using pandas\n",
    "gender_demo = mouse_results.groupby('Sex')['Sex'].count()\n",
    "explode = (0.05,0)\n",
    "labels = gender_demo.keys()\n",
    "plt.figure()\n",
    "pie_plot = gender_demo.plot(kind='pie', explode= explode, shadow=True, \n",
    "                            labels = labels, autopct = \"%1.2f%%\", \n",
    "                            startangle = 140)\n",
    "pie_plot.axis('equal')\n",
    "pie_plot.set_title('Gender Demographics')\n",
    "pie_plot.set_ylabel('')\n",
    "#plt.axis('equal')\n",
    "plt.show()"
   ]
  },
  {
   "cell_type": "code",
   "execution_count": 8,
   "metadata": {},
   "outputs": [
    {
     "data": {
      "image/png": "[encoded data removed]",
      "text/plain": [
       "<Figure size 432x288 with 1 Axes>"
      ]
     },
     "metadata": {},
     "output_type": "display_data"
    }
   ],
   "source": [
    "# Generate a pie plot showing the distribution of female versus male mice using pyplot\n",
    "plt.figure()\n",
    "plt.pie(gender_demo, explode= explode, shadow=True, colors = ['red', 'green'],\n",
    "        labels = labels, autopct = \"%1.2f%%\", startangle = 140)\n",
    "plt.title('Gender Demographics')\n",
    "plt.axis('equal')\n",
    "plt.show()"
   ]
  },
  {
   "cell_type": "markdown",
   "metadata": {},
   "source": [
    "## Quartiles, outliers and boxplots"
   ]
  },
  {
   "cell_type": "code",
   "execution_count": 9,
   "metadata": {},
   "outputs": [
    {
     "name": "stdout",
     "output_type": "stream",
     "text": [
      "Ramicane Summary\n",
      "  \n",
      "Max: 45.22086888\n",
      "Min: 22.05012627\n",
      "The lower quartile of Tumor Volume is: 30.98 mm3\n",
      "The upper quartile of Tumor Volume is: 38.51 mm3\n",
      "The interquartile range of Tumor Volume is: 7.53 mm3\n",
      "The median Tumor Volume is: 34.85 mm3\n",
      "Values below 19.69 could be outliers. There are 0 of them.\n",
      "Values above 49.8 could be outliers. There are 0 of them.\n",
      "There are 0 outliers.\n",
      "------------------------------------------------------------------------\n",
      "Capomulin Summary\n",
      "  \n",
      "Max: 47.68596303\n",
      "Min: 23.34359787\n",
      "The lower quartile of Tumor Volume is: 32.38 mm3\n",
      "The upper quartile of Tumor Volume is: 40.16 mm3\n",
      "The interquartile range of Tumor Volume is: 7.78 mm3\n",
      "The median Tumor Volume is: 37.31 mm3\n",
      "Values below 20.7 could be outliers. There are 0 of them.\n",
      "Values above 51.83 could be outliers. There are 0 of them.\n",
      "There are 0 outliers.\n",
      "------------------------------------------------------------------------\n",
      "Propriva Summary\n",
      "  \n",
      "Max: 72.45542116\n",
      "Min: 58.63340414\n",
      "The lower quartile of Tumor Volume is: 63.55 mm3\n",
      "The upper quartile of Tumor Volume is: 70.33 mm3\n",
      "The interquartile range of Tumor Volume is: 6.78 mm3\n",
      "The median Tumor Volume is: 64.96 mm3\n",
      "Values below 53.38 could be outliers. There are 0 of them.\n",
      "Values above 80.5 could be outliers. There are 0 of them.\n",
      "There are 0 outliers.\n",
      "------------------------------------------------------------------------\n",
      "Ceftamin Summary\n",
      "  \n",
      "Max: 68.92318457\n",
      "Min: 59.74190064\n",
      "The lower quartile of Tumor Volume is: 61.43 mm3\n",
      "The upper quartile of Tumor Volume is: 67.53 mm3\n",
      "The interquartile range of Tumor Volume is: 6.09 mm3\n",
      "The median Tumor Volume is: 64.3 mm3\n",
      "Values below 52.29 could be outliers. There are 0 of them.\n",
      "Values above 76.67 could be outliers. There are 0 of them.\n",
      "There are 0 outliers.\n",
      "------------------------------------------------------------------------\n"
     ]
    }
   ],
   "source": [
    "# Calculate the final tumor volume of each mouse across four of the most promising treatment regimens. Calculate the IQR and quantitatively determine if there are any potential outliers.\n",
    "\n",
    "grouped_regimen = mouse_results.groupby('Drug Regimen')['Tumor Volume (mm3)'].describe()\n",
    "grouped_regimen = grouped_regimen.sort_values('mean')\n",
    "best_treatments = grouped_regimen.index[:4]\n",
    "\n",
    "for drug in best_treatments:\n",
    "    \n",
    "    dataset = mouse_results[mouse_results['Drug Regimen'] == drug]\n",
    "    \n",
    "    final_volume = dataset[dataset['Timepoint'] == 45]\n",
    "    \n",
    "    final_volume = final_volume[['Mouse ID', 'Drug Regimen', 'Tumor Volume (mm3)']] \n",
    "    \n",
    "    quartiles = final_volume['Tumor Volume (mm3)'].quantile([.25,.5,.75])\n",
    "    lowerq = quartiles[0.25]\n",
    "    upperq = quartiles[0.75]\n",
    "    IQR = upperq-lowerq\n",
    "    \n",
    "    print(f\"{drug} Summary\")\n",
    "    print(\"  \")\n",
    "    print(f\"Max: {final_volume['Tumor Volume (mm3)'].max()}\")\n",
    "    print(f\"Min: {final_volume['Tumor Volume (mm3)'].min()}\")\n",
    "    print(f\"The lower quartile of Tumor Volume is: {round(lowerq,2)} mm3\")\n",
    "    print(f\"The upper quartile of Tumor Volume is: {round(upperq,2)} mm3\")\n",
    "    print(f\"The interquartile range of Tumor Volume is: {round(IQR,2)} mm3\")\n",
    "    print(f\"The median Tumor Volume is: {round(quartiles[0.5],2)} mm3\")\n",
    "    \n",
    "    lower_bound = lowerq - (1.5*IQR)\n",
    "    upper_bound = upperq + (1.5*IQR)\n",
    "\n",
    "    upper_fliers = len(final_volume[final_volume['Tumor Volume (mm3)'] > upper_bound])\n",
    "    lower_fliers = len(final_volume[final_volume['Tumor Volume (mm3)'] < lower_bound])   \n",
    "    \n",
    "    print(f\"Values below {round(lower_bound,2)} could be outliers. There are {lower_fliers} of them.\")\n",
    "    print(f\"Values above {round(upper_bound,2)} could be outliers. There are {upper_fliers} of them.\")\n",
    "\n",
    "    outliers = upper_fliers + lower_fliers\n",
    "\n",
    "    print(f\"There are {outliers} outliers.\")\n",
    "    \n",
    "    print(\"------------------------------------------------------------------------\")\n",
    "    "
   ]
  },
  {
   "cell_type": "code",
   "execution_count": 13,
   "metadata": {},
   "outputs": [
    {
     "name": "stdout",
     "output_type": "stream",
     "text": [
      "Most promising treatments are:\n",
      "Ramicane, Capomulin, Propriva, Ceftamin\n"
     ]
    },
    {
     "data": {
      "image/png": "[encoded data removed]",
      "text/plain": [
       "<Figure size 360x720 with 1 Axes>"
      ]
     },
     "metadata": {
      "needs_background": "light"
     },
     "output_type": "display_data"
    }
   ],
   "source": [
    "# Generate a box plot of the final tumor volume of each mouse across four regimens of interest\n",
    "print(f\"Most promising treatments are:\")\n",
    "print(*best_treatments, sep=', ')\n",
    "\n",
    "promising_regimen_df = mouse_results[mouse_results['Drug Regimen'].isin(best_treatments)]\n",
    "\n",
    "#take the final volume\n",
    "promising_regimen_df = promising_regimen_df[promising_regimen_df['Timepoint'] == 45]\n",
    "\n",
    "#reset index to mouse ID\n",
    "promising_regimen_df = promising_regimen_df.set_index('Mouse ID')\n",
    "\n",
    "#subset datafram for needed variables only\n",
    "promising_regimen_df = promising_regimen_df[['Drug Regimen', 'Tumor Volume (mm3)']]\n",
    "promising_regimen_df.boxplot(by='Drug Regimen', grid=False, figsize=(5,10), return_type='dict')\n",
    "\n",
    "plt.show()"
   ]
  },
  {
   "cell_type": "code",
   "execution_count": 14,
   "metadata": {},
   "outputs": [
    {
     "name": "stdout",
     "output_type": "stream",
     "text": [
      "Capomulin Summary\n",
      "  \n",
      "Max: 47.68596303\n",
      "Min: 23.34359787\n",
      "The lower quartile of Tumor Volume is: 32.38 mm3\n",
      "The upper quartile of Tumor Volume is: 40.16 mm3\n",
      "The interquartile range of Tumor Volume is: 7.78 mm3\n",
      "The median Tumor Volume is: 37.31 mm3\n",
      "Values below 20.7 could be outliers. There are 0 of them.\n",
      "Values above 51.83 could be outliers. There are 0 of them.\n",
      "There are 0 outliers.\n",
      "------------------------------------------------------------------------\n",
      "Ramicane Summary\n",
      "  \n",
      "Max: 45.22086888\n",
      "Min: 22.05012627\n",
      "The lower quartile of Tumor Volume is: 30.98 mm3\n",
      "The upper quartile of Tumor Volume is: 38.51 mm3\n",
      "The interquartile range of Tumor Volume is: 7.53 mm3\n",
      "The median Tumor Volume is: 34.85 mm3\n",
      "Values below 19.69 could be outliers. There are 0 of them.\n",
      "Values above 49.8 could be outliers. There are 0 of them.\n",
      "There are 0 outliers.\n",
      "------------------------------------------------------------------------\n",
      "Infubinol Summary\n",
      "  \n",
      "Max: 72.2267309\n",
      "Min: 60.91876652\n",
      "The lower quartile of Tumor Volume is: 62.75 mm3\n",
      "The upper quartile of Tumor Volume is: 67.69 mm3\n",
      "The interquartile range of Tumor Volume is: 4.93 mm3\n",
      "The median Tumor Volume is: 66.08 mm3\n",
      "Values below 55.36 could be outliers. There are 0 of them.\n",
      "Values above 75.08 could be outliers. There are 0 of them.\n",
      "There are 0 outliers.\n",
      "------------------------------------------------------------------------\n",
      "Ceftamin Summary\n",
      "  \n",
      "Max: 68.92318457\n",
      "Min: 59.74190064\n",
      "The lower quartile of Tumor Volume is: 61.43 mm3\n",
      "The upper quartile of Tumor Volume is: 67.53 mm3\n",
      "The interquartile range of Tumor Volume is: 6.09 mm3\n",
      "The median Tumor Volume is: 64.3 mm3\n",
      "Values below 52.29 could be outliers. There are 0 of them.\n",
      "Values above 76.67 could be outliers. There are 0 of them.\n",
      "There are 0 outliers.\n",
      "------------------------------------------------------------------------\n"
     ]
    }
   ],
   "source": [
    "regimen_of_interest = ['Capomulin', 'Ramicane', 'Infubinol', 'Ceftamin']\n",
    "for drug in regimen_of_interest:\n",
    "    \n",
    "    dataset = mouse_results[mouse_results['Drug Regimen'] == drug]\n",
    "    \n",
    "    final_volume = dataset[dataset['Timepoint'] == 45]\n",
    "    \n",
    "    final_volume = final_volume[['Mouse ID', 'Drug Regimen', 'Tumor Volume (mm3)']] \n",
    "    \n",
    "    quartiles = final_volume['Tumor Volume (mm3)'].quantile([.25,.5,.75])\n",
    "    lowerq = quartiles[0.25]\n",
    "    upperq = quartiles[0.75]\n",
    "    IQR = upperq-lowerq\n",
    "    \n",
    "    print(f\"{drug} Summary\")\n",
    "    print(\"  \")\n",
    "    print(f\"Max: {final_volume['Tumor Volume (mm3)'].max()}\")\n",
    "    print(f\"Min: {final_volume['Tumor Volume (mm3)'].min()}\")\n",
    "    print(f\"The lower quartile of Tumor Volume is: {round(lowerq,2)} mm3\")\n",
    "    print(f\"The upper quartile of Tumor Volume is: {round(upperq,2)} mm3\")\n",
    "    print(f\"The interquartile range of Tumor Volume is: {round(IQR,2)} mm3\")\n",
    "    print(f\"The median Tumor Volume is: {round(quartiles[0.5],2)} mm3\")\n",
    "    \n",
    "    lower_bound = lowerq - (1.5*IQR)\n",
    "    upper_bound = upperq + (1.5*IQR)\n",
    "\n",
    "    upper_fliers = len(final_volume[final_volume['Tumor Volume (mm3)'] > upper_bound])\n",
    "    lower_fliers = len(final_volume[final_volume['Tumor Volume (mm3)'] < lower_bound])   \n",
    "    \n",
    "    print(f\"Values below {round(lower_bound,2)} could be outliers. There are {lower_fliers} of them.\")\n",
    "    print(f\"Values above {round(upper_bound,2)} could be outliers. There are {upper_fliers} of them.\")\n",
    "\n",
    "    outliers = upper_fliers + lower_fliers\n",
    "\n",
    "    print(f\"There are {outliers} outliers.\")\n",
    "    \n",
    "    print(\"------------------------------------------------------------------------\")"
   ]
  },
  {
   "cell_type": "code",
   "execution_count": 15,
   "metadata": {},
   "outputs": [
    {
     "name": "stdout",
     "output_type": "stream",
     "text": [
      "The regimens of interest are:\n",
      "Capomulin, Ramicane, Infubinol, Ceftamin\n"
     ]
    },
    {
     "data": {
      "image/png": "[encoded data removed]",
      "text/plain": [
       "<Figure size 360x720 with 1 Axes>"
      ]
     },
     "metadata": {
      "needs_background": "light"
     },
     "output_type": "display_data"
    }
   ],
   "source": [
    "# Generate a box plot of the final tumor volume of each mouse across four regimens of interest\n",
    "\n",
    "regimen_of_interest = ['Capomulin', 'Ramicane', 'Infubinol', 'Ceftamin']\n",
    "\n",
    "print(f\"The regimens of interest are:\")\n",
    "print(*regimen_of_interest, sep=', ')\n",
    "\n",
    "selected_regimens_df = mouse_results[mouse_results['Drug Regimen'].isin(regimen_of_interest)]\n",
    "\n",
    "#take the final volume\n",
    "selected_regimens_df = selected_regimens_df[selected_regimens_df['Timepoint'] == 45]\n",
    "\n",
    "#reset index to mouse ID\n",
    "selected_regimens_df = selected_regimens_df.set_index('Mouse ID')\n",
    "\n",
    "#subset datafram for needed variables only\n",
    "selected_regimens_df = selected_regimens_df[['Drug Regimen', 'Tumor Volume (mm3)']]\n",
    "selected_regimens_df.boxplot(by='Drug Regimen', grid=False, figsize=(5,10), return_type='dict')\n",
    "\n",
    "plt.show()"
   ]
  },
  {
   "cell_type": "markdown",
   "metadata": {},
   "source": [
    "## Line and scatter plots"
   ]
  },
  {
   "cell_type": "code",
   "execution_count": 20,
   "metadata": {},
   "outputs": [
    {
     "data": {
      "image/png": "[encoded data removed]",
      "text/plain": [
       "<Figure size 432x288 with 1 Axes>"
      ]
     },
     "metadata": {
      "needs_background": "light"
     },
     "output_type": "display_data"
    }
   ],
   "source": [
    "# Generate a line plot of time point versus tumor volume for a mouse treated with Capomulin\n",
    "selected_drug = 'Capomulin'\n",
    "mice_to_select = random.randrange(0,summary_stats.loc[selected_drug,'count'])\n",
    "sample = mouse_results[mouse_results['Drug Regimen']== selected_drug]\n",
    "sample = sample.reset_index(drop=True)\n",
    "selected_mouse_id = sample.loc[mice_to_select, 'Mouse ID']\n",
    "selected_mouse_data = sample[sample['Mouse ID']== selected_mouse_id]\n",
    "\n",
    "plot_data = selected_mouse_data[['Tumor Volume (mm3)', 'Timepoint']]\n",
    "plot_data = plot_data.set_index('Timepoint')\n",
    "#plt.figure()\n",
    "line_plot = plot_data.plot(kind='line')\n",
    "line_plot.set_title(f\"{selected_mouse_id}'s Data - Time vs Tumor Volume for {selected_drug}\")\n",
    "line_plot.set_ylabel('Tumor Volume (mm3)')\n",
    "plt.show()"
   ]
  },
  {
   "cell_type": "code",
   "execution_count": 71,
   "metadata": {},
   "outputs": [
    {
     "name": "stdout",
     "output_type": "stream",
     "text": [
      "The correlation between both factors is 0.84\n"
     ]
    },
    {
     "data": {
      "image/png": "[encoded data removed]",
      "text/plain": [
       "<Figure size 432x288 with 1 Axes>"
      ]
     },
     "metadata": {
      "needs_background": "light"
     },
     "output_type": "display_data"
    }
   ],
   "source": [
    "# Generate a scatter plot of mouse weight versus average tumor volume for the Capomulin regimen\n",
    "selected_drug = 'Capomulin'\n",
    "summary_by_drug = mouse_results.groupby('Drug Regimen').mean()\n",
    "dataset = mouse_results[mouse_results['Drug Regimen']== selected_drug]\n",
    "grouped_dataset = dataset.groupby('Mouse ID').mean()\n",
    "grouped_dataset = grouped_dataset[['Tumor Volume (mm3)', 'Weight (g)']]\n",
    "#grouped_dataset = grouped_dataset.reset_index(drop=True)\n",
    "grouped_dataset\n",
    "\n",
    "#plt.figure()\n",
    "scatter_plot = grouped_dataset.plot(kind='scatter', x = 'Weight (g)', y= 'Tumor Volume (mm3)')\n",
    "scatter_plot.set_title(f\"Weight vs Average Tumor Volume for {selected_drug}\")\n",
    "\n",
    "# Calculate the correlation coefficient and linear regression model for mouse weight and average tumor volume for the Capomulin regimen\n",
    "mice_weight = grouped_dataset['Weight (g)']\n",
    "avg_tumor_volume = grouped_dataset['Tumor Volume (mm3)']\n",
    "correlation = st.pearsonr(mice_weight, avg_tumor_volume)\n",
    "print(f\"The correlation between both factors is {round(correlation[0],2)}\")\n",
    "\n",
    "(slope, intercept, rvalue, pvalue, stderr) = st.linregress(mice_weight, avg_tumor_volume)\n",
    "regress_values = mice_weight * slope + intercept\n",
    "line_eq = \"y = \" + str(round(slope,2)) + \"x + \" + str(round(intercept,2))\n",
    "#print(f\"The regression equation is {line_eq}\")\n",
    "#plt.scatter(mice_weight,avg_tumor_volume)\n",
    "scatter_plot.plot(mice_weight,regress_values,\"r-\")\n",
    "scatter_plot.annotate(line_eq,(16,36),fontsize=15, color=\"red\")\n",
    "#scatter_plot.set_ylabels('')\n",
    "plt.show()\n",
    "#scatter_plot.plot(mice_weight,regress_values,\"r-\")\n",
    "#scatter_plot.annotate(s=line_eq,xy=(16,36),fontsize=20, color=\"red\")\n",
    "#plt.figure()"
   ]
  },
  {
   "cell_type": "code",
   "execution_count": 85,
   "metadata": {},
   "outputs": [
    {
     "name": "stdout",
     "output_type": "stream",
     "text": [
      "The correlation between both factors is 0.84\n",
      "The regression equation is y = 0.95x + 21.55\n"
     ]
    },
    {
     "data": {
      "text/plain": [
       "<Figure size 432x288 with 0 Axes>"
      ]
     },
     "metadata": {},
     "output_type": "display_data"
    }
   ],
   "source": [
    "# Calculate the correlation coefficient and linear regression model for mouse weight and average tumor volume for the Capomulin regimen\n",
    "mice_weight = grouped_dataset['Weight (g)']\n",
    "avg_tumor_volume = grouped_dataset['Tumor Volume (mm3)']\n",
    "correlation = st.pearsonr(mice_weight, avg_tumor_volume)\n",
    "print(f\"The correlation between both factors is {round(correlation[0],2)}\")\n",
    "\n",
    "(slope, intercept, rvalue, pvalue, stderr) = st.linregress(mice_weight, avg_tumor_volume)\n",
    "regress_values = mice_weight * slope + intercept\n",
    "line_eq = \"y = \" + str(round(slope,2)) + \"x + \" + str(round(intercept,2))\n",
    "print(f\"The regression equation is {line_eq}\")\n",
    "#plt.scatter(mice_weight,avg_tumor_volume)\n",
    "scatter_plot.plot(mice_weight,regress_values,\"r-\")\n",
    "#scatter_plot.plot(mice_weight,regress_values,\"r-\")\n",
    "#plt.annotate(line_eq,(34,36),fontsize=5, color=\"red\")\n",
    "#scatter_plot.annotate(line_eq,(16,36),fontsize=5, color=\"red\")\n",
    "#plt.xlabel('Weight (g)')\n",
    "#plt.ylabel('Tumor Volume (mm3)')\n",
    "plt.figure()\n",
    "plt.show()"
   ]
  },
  {
   "cell_type": "code",
   "execution_count": null,
   "metadata": {},
   "outputs": [],
   "source": []
  },
  {
   "cell_type": "code",
   "execution_count": null,
   "metadata": {},
   "outputs": [],
   "source": []
  }
 ],
 "metadata": {
  "anaconda-cloud": {},
  "kernelspec": {
   "display_name": "Python 3",
   "language": "python",
   "name": "python3"
  },
  "language_info": {
   "codemirror_mode": {
    "name": "ipython",
    "version": 3
   },
   "file_extension": ".py",
   "mimetype": "text/x-python",
   "name": "python",
   "nbconvert_exporter": "python",
   "pygments_lexer": "ipython3",
   "version": "3.7.4"
  }
 },
 "nbformat": 4,
 "nbformat_minor": 4
}
